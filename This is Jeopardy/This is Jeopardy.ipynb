{
 "cells": [
  {
   "cell_type": "markdown",
   "metadata": {},
   "source": [
    "# This is Jeopardy!"
   ]
  },
  {
   "cell_type": "markdown",
   "metadata": {},
   "source": [
    "#### Overview"
   ]
  },
  {
   "cell_type": "markdown",
   "metadata": {},
   "source": [
    "This project is slightly different than others you have encountered thus far. Instead of a step-by-step tutorial, this project contains a series of open-ended requirements which describe the project you'll be building. There are many possible ways to correctly fulfill all of these requirements, and you should expect to use the internet, Codecademy, and/or other resources when you encounter a problem that you cannot easily solve."
   ]
  },
  {
   "cell_type": "markdown",
   "metadata": {},
   "source": [
    "#### Project Goals"
   ]
  },
  {
   "cell_type": "markdown",
   "metadata": {},
   "source": [
    "You will work to write several functions that investigate a dataset of _Jeopardy!_ questions and answers. Filter the dataset for topics that you're interested in, compute the average difficulty of those questions, and train to become the next Jeopardy champion!"
   ]
  },
  {
   "cell_type": "markdown",
   "metadata": {},
   "source": [
    "## Prerequisites"
   ]
  },
  {
   "cell_type": "markdown",
   "metadata": {},
   "source": [
    "In order to complete this project, you should have completed the Pandas lessons in the <a href=\"https://www.codecademy.com/learn/paths/analyze-data-with-python\">Analyze Data with Python Skill Path</a>. You can also find those lessons in the <a href=\"https://www.codecademy.com/learn/data-processing-pandas\">Data Analysis with Pandas course</a> or the <a href=\"https://www.codecademy.com/learn/paths/data-science/\">Data Scientist Career Path</a>.\n",
    "\n",
    "Finally, the <a href=\"https://www.codecademy.com/learn/practical-data-cleaning\">Practical Data Cleaning</a> course may also be helpful."
   ]
  },
  {
   "cell_type": "markdown",
   "metadata": {},
   "source": [
    "## Project Requirements"
   ]
  },
  {
   "cell_type": "markdown",
   "metadata": {},
   "source": [
    "1. We've provided a csv file containing data about the game show _Jeopardy!_ in a file named `jeopardy.csv`. Load the data into a DataFrame and investigate its contents. Try to print out specific columns.\n",
    "\n",
    "   Note that in order to make this project as \"real-world\" as possible, we haven't modified the data at all - we're giving it to you exactly how we found it. As a result, this data isn't as \"clean\" as the datasets you normally find on Codecademy. More specifically, there's something odd about the column names. After you figure out the problem with the column names, you may want to rename them to make your life easier for the rest of the project.\n",
    "   \n",
    "   In order to display the full contents of a column, we've added this line of code for you:\n",
    "   \n",
    "   ```py\n",
    "   pd.set_option('display.max_colwidth', None)\n",
    "   ```"
   ]
  },
  {
   "cell_type": "code",
   "execution_count": 46,
   "metadata": {},
   "outputs": [
    {
     "data": {
      "text/html": [
       "<div>\n",
       "<style scoped>\n",
       "    .dataframe tbody tr th:only-of-type {\n",
       "        vertical-align: middle;\n",
       "    }\n",
       "\n",
       "    .dataframe tbody tr th {\n",
       "        vertical-align: top;\n",
       "    }\n",
       "\n",
       "    .dataframe thead th {\n",
       "        text-align: right;\n",
       "    }\n",
       "</style>\n",
       "<table border=\"1\" class=\"dataframe\">\n",
       "  <thead>\n",
       "    <tr style=\"text-align: right;\">\n",
       "      <th></th>\n",
       "      <th>Show Number</th>\n",
       "      <th>Air Date</th>\n",
       "      <th>Round</th>\n",
       "      <th>Category</th>\n",
       "      <th>Value</th>\n",
       "      <th>Question</th>\n",
       "      <th>Answer</th>\n",
       "    </tr>\n",
       "  </thead>\n",
       "  <tbody>\n",
       "    <tr>\n",
       "      <th>0</th>\n",
       "      <td>4680</td>\n",
       "      <td>2004-12-31</td>\n",
       "      <td>Jeopardy!</td>\n",
       "      <td>HISTORY</td>\n",
       "      <td>$200</td>\n",
       "      <td>For the last 8 years of his life, Galileo was under house arrest for espousing this man's theory</td>\n",
       "      <td>Copernicus</td>\n",
       "    </tr>\n",
       "    <tr>\n",
       "      <th>1</th>\n",
       "      <td>4680</td>\n",
       "      <td>2004-12-31</td>\n",
       "      <td>Jeopardy!</td>\n",
       "      <td>ESPN's TOP 10 ALL-TIME ATHLETES</td>\n",
       "      <td>$200</td>\n",
       "      <td>No. 2: 1912 Olympian; football star at Carlisle Indian School; 6 MLB seasons with the Reds, Giants &amp; Braves</td>\n",
       "      <td>Jim Thorpe</td>\n",
       "    </tr>\n",
       "    <tr>\n",
       "      <th>2</th>\n",
       "      <td>4680</td>\n",
       "      <td>2004-12-31</td>\n",
       "      <td>Jeopardy!</td>\n",
       "      <td>EVERYBODY TALKS ABOUT IT...</td>\n",
       "      <td>$200</td>\n",
       "      <td>The city of Yuma in this state has a record average of 4,055 hours of sunshine each year</td>\n",
       "      <td>Arizona</td>\n",
       "    </tr>\n",
       "    <tr>\n",
       "      <th>3</th>\n",
       "      <td>4680</td>\n",
       "      <td>2004-12-31</td>\n",
       "      <td>Jeopardy!</td>\n",
       "      <td>THE COMPANY LINE</td>\n",
       "      <td>$200</td>\n",
       "      <td>In 1963, live on \"The Art Linkletter Show\", this company served its billionth burger</td>\n",
       "      <td>McDonald's</td>\n",
       "    </tr>\n",
       "    <tr>\n",
       "      <th>4</th>\n",
       "      <td>4680</td>\n",
       "      <td>2004-12-31</td>\n",
       "      <td>Jeopardy!</td>\n",
       "      <td>EPITAPHS &amp; TRIBUTES</td>\n",
       "      <td>$200</td>\n",
       "      <td>Signer of the Dec. of Indep., framer of the Constitution of Mass., second President of the United States</td>\n",
       "      <td>John Adams</td>\n",
       "    </tr>\n",
       "    <tr>\n",
       "      <th>...</th>\n",
       "      <td>...</td>\n",
       "      <td>...</td>\n",
       "      <td>...</td>\n",
       "      <td>...</td>\n",
       "      <td>...</td>\n",
       "      <td>...</td>\n",
       "      <td>...</td>\n",
       "    </tr>\n",
       "    <tr>\n",
       "      <th>216925</th>\n",
       "      <td>4999</td>\n",
       "      <td>2006-05-11</td>\n",
       "      <td>Double Jeopardy!</td>\n",
       "      <td>RIDDLE ME THIS</td>\n",
       "      <td>$2000</td>\n",
       "      <td>This Puccini opera turns on the solution to 3 riddles posed by the heroine</td>\n",
       "      <td>Turandot</td>\n",
       "    </tr>\n",
       "    <tr>\n",
       "      <th>216926</th>\n",
       "      <td>4999</td>\n",
       "      <td>2006-05-11</td>\n",
       "      <td>Double Jeopardy!</td>\n",
       "      <td>\"T\" BIRDS</td>\n",
       "      <td>$2000</td>\n",
       "      <td>In North America this term is properly applied to only 4 species that are crested, including the tufted</td>\n",
       "      <td>a titmouse</td>\n",
       "    </tr>\n",
       "    <tr>\n",
       "      <th>216927</th>\n",
       "      <td>4999</td>\n",
       "      <td>2006-05-11</td>\n",
       "      <td>Double Jeopardy!</td>\n",
       "      <td>AUTHORS IN THEIR YOUTH</td>\n",
       "      <td>$2000</td>\n",
       "      <td>In Penny Lane, where this \"Hellraiser\" grew up, the barber shaves another customer--then flays him alive!</td>\n",
       "      <td>Clive Barker</td>\n",
       "    </tr>\n",
       "    <tr>\n",
       "      <th>216928</th>\n",
       "      <td>4999</td>\n",
       "      <td>2006-05-11</td>\n",
       "      <td>Double Jeopardy!</td>\n",
       "      <td>QUOTATIONS</td>\n",
       "      <td>$2000</td>\n",
       "      <td>From Ft. Sill, Okla. he made the plea, Arizona is my land, my home, my father's land, to which I now ask to... return\"</td>\n",
       "      <td>Geronimo</td>\n",
       "    </tr>\n",
       "    <tr>\n",
       "      <th>216929</th>\n",
       "      <td>4999</td>\n",
       "      <td>2006-05-11</td>\n",
       "      <td>Final Jeopardy!</td>\n",
       "      <td>HISTORIC NAMES</td>\n",
       "      <td>no value</td>\n",
       "      <td>A silent movie title includes the last name of this 18th c. statesman &amp; favorite of Catherine the Great</td>\n",
       "      <td>Grigori Alexandrovich Potemkin</td>\n",
       "    </tr>\n",
       "  </tbody>\n",
       "</table>\n",
       "<p>216930 rows × 7 columns</p>\n",
       "</div>"
      ],
      "text/plain": [
       "        Show Number    Air Date             Round  \\\n",
       "0              4680  2004-12-31         Jeopardy!   \n",
       "1              4680  2004-12-31         Jeopardy!   \n",
       "2              4680  2004-12-31         Jeopardy!   \n",
       "3              4680  2004-12-31         Jeopardy!   \n",
       "4              4680  2004-12-31         Jeopardy!   \n",
       "...             ...         ...               ...   \n",
       "216925         4999  2006-05-11  Double Jeopardy!   \n",
       "216926         4999  2006-05-11  Double Jeopardy!   \n",
       "216927         4999  2006-05-11  Double Jeopardy!   \n",
       "216928         4999  2006-05-11  Double Jeopardy!   \n",
       "216929         4999  2006-05-11   Final Jeopardy!   \n",
       "\n",
       "                               Category     Value  \\\n",
       "0                               HISTORY      $200   \n",
       "1       ESPN's TOP 10 ALL-TIME ATHLETES      $200   \n",
       "2           EVERYBODY TALKS ABOUT IT...      $200   \n",
       "3                      THE COMPANY LINE      $200   \n",
       "4                   EPITAPHS & TRIBUTES      $200   \n",
       "...                                 ...       ...   \n",
       "216925                   RIDDLE ME THIS     $2000   \n",
       "216926                        \"T\" BIRDS     $2000   \n",
       "216927           AUTHORS IN THEIR YOUTH     $2000   \n",
       "216928                       QUOTATIONS     $2000   \n",
       "216929                   HISTORIC NAMES  no value   \n",
       "\n",
       "                                                                                                                      Question  \\\n",
       "0                             For the last 8 years of his life, Galileo was under house arrest for espousing this man's theory   \n",
       "1                  No. 2: 1912 Olympian; football star at Carlisle Indian School; 6 MLB seasons with the Reds, Giants & Braves   \n",
       "2                                     The city of Yuma in this state has a record average of 4,055 hours of sunshine each year   \n",
       "3                                         In 1963, live on \"The Art Linkletter Show\", this company served its billionth burger   \n",
       "4                     Signer of the Dec. of Indep., framer of the Constitution of Mass., second President of the United States   \n",
       "...                                                                                                                        ...   \n",
       "216925                                              This Puccini opera turns on the solution to 3 riddles posed by the heroine   \n",
       "216926                 In North America this term is properly applied to only 4 species that are crested, including the tufted   \n",
       "216927               In Penny Lane, where this \"Hellraiser\" grew up, the barber shaves another customer--then flays him alive!   \n",
       "216928  From Ft. Sill, Okla. he made the plea, Arizona is my land, my home, my father's land, to which I now ask to... return\"   \n",
       "216929                 A silent movie title includes the last name of this 18th c. statesman & favorite of Catherine the Great   \n",
       "\n",
       "                                Answer  \n",
       "0                           Copernicus  \n",
       "1                           Jim Thorpe  \n",
       "2                              Arizona  \n",
       "3                           McDonald's  \n",
       "4                           John Adams  \n",
       "...                                ...  \n",
       "216925                        Turandot  \n",
       "216926                      a titmouse  \n",
       "216927                    Clive Barker  \n",
       "216928                        Geronimo  \n",
       "216929  Grigori Alexandrovich Potemkin  \n",
       "\n",
       "[216930 rows x 7 columns]"
      ]
     },
     "execution_count": 46,
     "metadata": {},
     "output_type": "execute_result"
    }
   ],
   "source": [
    "import pandas as pd\n",
    "pd.set_option('display.max_colwidth', None)\n",
    "jeopardy = pd.read_csv(\"jeopardy.csv\")\n",
    "jeopardy"
   ]
  },
  {
   "cell_type": "markdown",
   "metadata": {},
   "source": [
    "2. Write a function that filters the dataset for questions that contains all of the words in a list of words. For example, when the list `[\"King\", \"England\"]` was passed to our function, the function returned a DataFrame of 49 rows. Every row had the strings `\"King\"` and `\"England\"` somewhere in its `\" Question\"`.\n",
    "\n",
    "   Test your function by printing out the column containing the question of each row of the dataset."
   ]
  },
  {
   "cell_type": "code",
   "execution_count": 56,
   "metadata": {},
   "outputs": [
    {
     "data": {
      "text/html": [
       "<div>\n",
       "<style scoped>\n",
       "    .dataframe tbody tr th:only-of-type {\n",
       "        vertical-align: middle;\n",
       "    }\n",
       "\n",
       "    .dataframe tbody tr th {\n",
       "        vertical-align: top;\n",
       "    }\n",
       "\n",
       "    .dataframe thead th {\n",
       "        text-align: right;\n",
       "    }\n",
       "</style>\n",
       "<table border=\"1\" class=\"dataframe\">\n",
       "  <thead>\n",
       "    <tr style=\"text-align: right;\">\n",
       "      <th></th>\n",
       "      <th>Show Number</th>\n",
       "      <th>Air Date</th>\n",
       "      <th>Round</th>\n",
       "      <th>Category</th>\n",
       "      <th>Value</th>\n",
       "      <th>Question</th>\n",
       "      <th>Answer</th>\n",
       "      <th>value_float</th>\n",
       "    </tr>\n",
       "  </thead>\n",
       "  <tbody>\n",
       "    <tr>\n",
       "      <th>40</th>\n",
       "      <td>4680</td>\n",
       "      <td>2004-12-31</td>\n",
       "      <td>Double Jeopardy!</td>\n",
       "      <td>DR. SEUSS AT THE MULTIPLEX</td>\n",
       "      <td>$1200</td>\n",
       "      <td>&lt;a href=\"http://www.j-archive.com/media/2004-12-31_DJ_26.mp3\"&gt;Ripped from today's headlines, he was a turtle king gone mad; Mack was the one good turtle who'd bring him down&lt;/a&gt;</td>\n",
       "      <td>Yertle</td>\n",
       "      <td>1200.0</td>\n",
       "    </tr>\n",
       "    <tr>\n",
       "      <th>50</th>\n",
       "      <td>4680</td>\n",
       "      <td>2004-12-31</td>\n",
       "      <td>Double Jeopardy!</td>\n",
       "      <td>DR. SEUSS AT THE MULTIPLEX</td>\n",
       "      <td>$2000</td>\n",
       "      <td>&lt;a href=\"http://www.j-archive.com/media/2004-12-31_DJ_24.mp3\"&gt;\"500 Hats\"... 500 ways to die.  On July 4th, this young boy will defy a king... &amp; become a legend&lt;/a&gt;</td>\n",
       "      <td>Bartholomew Cubbins</td>\n",
       "      <td>2000.0</td>\n",
       "    </tr>\n",
       "    <tr>\n",
       "      <th>116</th>\n",
       "      <td>5957</td>\n",
       "      <td>2010-07-06</td>\n",
       "      <td>Final Jeopardy!</td>\n",
       "      <td>HISTORIC WOMEN</td>\n",
       "      <td>no value</td>\n",
       "      <td>She was born in Virginia around 1596 &amp; died in Kent, England in 1617</td>\n",
       "      <td>Pocahontas</td>\n",
       "      <td>NaN</td>\n",
       "    </tr>\n",
       "    <tr>\n",
       "      <th>146</th>\n",
       "      <td>3751</td>\n",
       "      <td>2000-12-18</td>\n",
       "      <td>Double Jeopardy!</td>\n",
       "      <td>PEOPLE IN HISTORY</td>\n",
       "      <td>$200</td>\n",
       "      <td>After a 15-year stay in England, this proprietor of Pennsylvania returned to his colony in 1699</td>\n",
       "      <td>William Penn</td>\n",
       "      <td>200.0</td>\n",
       "    </tr>\n",
       "    <tr>\n",
       "      <th>296</th>\n",
       "      <td>4931</td>\n",
       "      <td>2006-02-06</td>\n",
       "      <td>Final Jeopardy!</td>\n",
       "      <td>FAMOUS SHIPS</td>\n",
       "      <td>no value</td>\n",
       "      <td>On December 27, 1831 it departed Plymouth, England to map the coastline of South America</td>\n",
       "      <td>the HMS Beagle</td>\n",
       "      <td>NaN</td>\n",
       "    </tr>\n",
       "    <tr>\n",
       "      <th>...</th>\n",
       "      <td>...</td>\n",
       "      <td>...</td>\n",
       "      <td>...</td>\n",
       "      <td>...</td>\n",
       "      <td>...</td>\n",
       "      <td>...</td>\n",
       "      <td>...</td>\n",
       "      <td>...</td>\n",
       "    </tr>\n",
       "    <tr>\n",
       "      <th>216675</th>\n",
       "      <td>3940</td>\n",
       "      <td>2001-10-19</td>\n",
       "      <td>Double Jeopardy!</td>\n",
       "      <td>\"CAB\"</td>\n",
       "      <td>$600</td>\n",
       "      <td>Stephen King's 1980 overview of the horror genre was called \"Danse\" this</td>\n",
       "      <td>Macabre</td>\n",
       "      <td>600.0</td>\n",
       "    </tr>\n",
       "    <tr>\n",
       "      <th>216752</th>\n",
       "      <td>5070</td>\n",
       "      <td>2006-09-29</td>\n",
       "      <td>Jeopardy!</td>\n",
       "      <td>SIGNING OFF</td>\n",
       "      <td>$200</td>\n",
       "      <td>Upon signing his name in 1776 he said, \"There, King George will be able to read that without his spectacles\"</td>\n",
       "      <td>(John) Hancock</td>\n",
       "      <td>200.0</td>\n",
       "    </tr>\n",
       "    <tr>\n",
       "      <th>216777</th>\n",
       "      <td>5070</td>\n",
       "      <td>2006-09-29</td>\n",
       "      <td>Double Jeopardy!</td>\n",
       "      <td>ANCIENT HISTORY</td>\n",
       "      <td>$400</td>\n",
       "      <td>The first one of these tombs was built about 2650 B.C. by Imhotep for King Zoser &amp; rose about 200 feet using steps</td>\n",
       "      <td>a pyramid (the pyramids accepted)</td>\n",
       "      <td>400.0</td>\n",
       "    </tr>\n",
       "    <tr>\n",
       "      <th>216787</th>\n",
       "      <td>5070</td>\n",
       "      <td>2006-09-29</td>\n",
       "      <td>Double Jeopardy!</td>\n",
       "      <td>TALES OF E.T.A. HOFFMANN</td>\n",
       "      <td>$2,000</td>\n",
       "      <td>A Hoffmann tale title lost the words \"And The Mouse King\" when it became this Tchaikovsky ballet</td>\n",
       "      <td>The Nutcracker</td>\n",
       "      <td>2000.0</td>\n",
       "    </tr>\n",
       "    <tr>\n",
       "      <th>216789</th>\n",
       "      <td>5070</td>\n",
       "      <td>2006-09-29</td>\n",
       "      <td>Double Jeopardy!</td>\n",
       "      <td>ANCIENT HISTORY</td>\n",
       "      <td>$1200</td>\n",
       "      <td>This kingdom of England grew from 2 settlements, one founded around 495 by Cerdic &amp; his son Cynric</td>\n",
       "      <td>Wessex</td>\n",
       "      <td>1200.0</td>\n",
       "    </tr>\n",
       "  </tbody>\n",
       "</table>\n",
       "<p>3719 rows × 8 columns</p>\n",
       "</div>"
      ],
      "text/plain": [
       "        Show Number    Air Date             Round                    Category  \\\n",
       "40             4680  2004-12-31  Double Jeopardy!  DR. SEUSS AT THE MULTIPLEX   \n",
       "50             4680  2004-12-31  Double Jeopardy!  DR. SEUSS AT THE MULTIPLEX   \n",
       "116            5957  2010-07-06   Final Jeopardy!              HISTORIC WOMEN   \n",
       "146            3751  2000-12-18  Double Jeopardy!           PEOPLE IN HISTORY   \n",
       "296            4931  2006-02-06   Final Jeopardy!                FAMOUS SHIPS   \n",
       "...             ...         ...               ...                         ...   \n",
       "216675         3940  2001-10-19  Double Jeopardy!                       \"CAB\"   \n",
       "216752         5070  2006-09-29         Jeopardy!                 SIGNING OFF   \n",
       "216777         5070  2006-09-29  Double Jeopardy!             ANCIENT HISTORY   \n",
       "216787         5070  2006-09-29  Double Jeopardy!    TALES OF E.T.A. HOFFMANN   \n",
       "216789         5070  2006-09-29  Double Jeopardy!             ANCIENT HISTORY   \n",
       "\n",
       "           Value  \\\n",
       "40         $1200   \n",
       "50         $2000   \n",
       "116     no value   \n",
       "146         $200   \n",
       "296     no value   \n",
       "...          ...   \n",
       "216675      $600   \n",
       "216752      $200   \n",
       "216777      $400   \n",
       "216787    $2,000   \n",
       "216789     $1200   \n",
       "\n",
       "                                                                                                                                                                                 Question  \\\n",
       "40      <a href=\"http://www.j-archive.com/media/2004-12-31_DJ_26.mp3\">Ripped from today's headlines, he was a turtle king gone mad; Mack was the one good turtle who'd bring him down</a>   \n",
       "50                    <a href=\"http://www.j-archive.com/media/2004-12-31_DJ_24.mp3\">\"500 Hats\"... 500 ways to die.  On July 4th, this young boy will defy a king... & become a legend</a>   \n",
       "116                                                                                                                  She was born in Virginia around 1596 & died in Kent, England in 1617   \n",
       "146                                                                                       After a 15-year stay in England, this proprietor of Pennsylvania returned to his colony in 1699   \n",
       "296                                                                                              On December 27, 1831 it departed Plymouth, England to map the coastline of South America   \n",
       "...                                                                                                                                                                                   ...   \n",
       "216675                                                                                                           Stephen King's 1980 overview of the horror genre was called \"Danse\" this   \n",
       "216752                                                                       Upon signing his name in 1776 he said, \"There, King George will be able to read that without his spectacles\"   \n",
       "216777                                                                 The first one of these tombs was built about 2650 B.C. by Imhotep for King Zoser & rose about 200 feet using steps   \n",
       "216787                                                                                   A Hoffmann tale title lost the words \"And The Mouse King\" when it became this Tchaikovsky ballet   \n",
       "216789                                                                                 This kingdom of England grew from 2 settlements, one founded around 495 by Cerdic & his son Cynric   \n",
       "\n",
       "                                   Answer  value_float  \n",
       "40                                 Yertle       1200.0  \n",
       "50                    Bartholomew Cubbins       2000.0  \n",
       "116                            Pocahontas          NaN  \n",
       "146                          William Penn        200.0  \n",
       "296                        the HMS Beagle          NaN  \n",
       "...                                   ...          ...  \n",
       "216675                            Macabre        600.0  \n",
       "216752                     (John) Hancock        200.0  \n",
       "216777  a pyramid (the pyramids accepted)        400.0  \n",
       "216787                     The Nutcracker       2000.0  \n",
       "216789                             Wessex       1200.0  \n",
       "\n",
       "[3719 rows x 8 columns]"
      ]
     },
     "execution_count": 56,
     "metadata": {},
     "output_type": "execute_result"
    }
   ],
   "source": [
    "def filter_df(df, word_list):\n",
    "    regex_list =[rf\"\\b{word}\\b\" for word in word_list] \n",
    "    regex = \"|\".join(regex_list)\n",
    "    new_df=df[df[\" Question\"].str.contains(regex, case= False)]\n",
    "    return new_df\n",
    "    \n",
    "test = filter_df(jeopardy, [\"King\", \"England\"])\n",
    "test"
   ]
  },
  {
   "cell_type": "markdown",
   "metadata": {},
   "source": [
    "3. Test your original function with a few different sets of words to try to find some ways your function breaks. Edit your function so it is more robust.\n",
    "\n",
    "   For example, think about capitalization. We probably want to find questions that contain the word `\"King\"` or `\"king\"`.\n",
    "   \n",
    "   You may also want to check to make sure you don't find rows that contain substrings of your given words. For example, our function found a question that didn't contain the word `\"king\"`, however it did contain the word `\"viking\"` &mdash; it found the `\"king\"` inside `\"viking\"`. Note that this also comes with some drawbacks &mdash; you would no longer find questions that contained words like `\"England's\"`."
   ]
  },
  {
   "cell_type": "markdown",
   "metadata": {},
   "source": [
    "Fixed by adding word boundries to the regex and making the contains method case insensitive"
   ]
  },
  {
   "cell_type": "markdown",
   "metadata": {},
   "source": [
    "4. We may want to eventually compute aggregate statistics, like `.mean()` on the `\" Value\"` column. But right now, the values in that column are strings. Convert the`\" Value\"` column to floats. If you'd like to, you can create a new column with float values.\n",
    "\n",
    "   While most of the values in the `\" Value\"` column represent a dollar amount as a string, note that some do not &mdash; these values will need to be handled differently!\n",
    "\n",
    "   Now that you can filter the dataset of question, use your new column that contains the float values of each question to find the \"difficulty\" of certain topics. For example, what is the average value of questions that contain the word `\"King\"`?\n",
    "   \n",
    "   Make sure to use the dataset that contains the float values as the dataset you use in your filtering function."
   ]
  },
  {
   "cell_type": "code",
   "execution_count": 54,
   "metadata": {},
   "outputs": [
    {
     "data": {
      "text/html": [
       "<div>\n",
       "<style scoped>\n",
       "    .dataframe tbody tr th:only-of-type {\n",
       "        vertical-align: middle;\n",
       "    }\n",
       "\n",
       "    .dataframe tbody tr th {\n",
       "        vertical-align: top;\n",
       "    }\n",
       "\n",
       "    .dataframe thead th {\n",
       "        text-align: right;\n",
       "    }\n",
       "</style>\n",
       "<table border=\"1\" class=\"dataframe\">\n",
       "  <thead>\n",
       "    <tr style=\"text-align: right;\">\n",
       "      <th></th>\n",
       "      <th>Show Number</th>\n",
       "      <th>Air Date</th>\n",
       "      <th>Round</th>\n",
       "      <th>Category</th>\n",
       "      <th>Value</th>\n",
       "      <th>Question</th>\n",
       "      <th>Answer</th>\n",
       "      <th>value_float</th>\n",
       "    </tr>\n",
       "  </thead>\n",
       "  <tbody>\n",
       "    <tr>\n",
       "      <th>0</th>\n",
       "      <td>4680</td>\n",
       "      <td>2004-12-31</td>\n",
       "      <td>Jeopardy!</td>\n",
       "      <td>HISTORY</td>\n",
       "      <td>$200</td>\n",
       "      <td>For the last 8 years of his life, Galileo was under house arrest for espousing this man's theory</td>\n",
       "      <td>Copernicus</td>\n",
       "      <td>200.0</td>\n",
       "    </tr>\n",
       "    <tr>\n",
       "      <th>1</th>\n",
       "      <td>4680</td>\n",
       "      <td>2004-12-31</td>\n",
       "      <td>Jeopardy!</td>\n",
       "      <td>ESPN's TOP 10 ALL-TIME ATHLETES</td>\n",
       "      <td>$200</td>\n",
       "      <td>No. 2: 1912 Olympian; football star at Carlisle Indian School; 6 MLB seasons with the Reds, Giants &amp; Braves</td>\n",
       "      <td>Jim Thorpe</td>\n",
       "      <td>200.0</td>\n",
       "    </tr>\n",
       "    <tr>\n",
       "      <th>2</th>\n",
       "      <td>4680</td>\n",
       "      <td>2004-12-31</td>\n",
       "      <td>Jeopardy!</td>\n",
       "      <td>EVERYBODY TALKS ABOUT IT...</td>\n",
       "      <td>$200</td>\n",
       "      <td>The city of Yuma in this state has a record average of 4,055 hours of sunshine each year</td>\n",
       "      <td>Arizona</td>\n",
       "      <td>200.0</td>\n",
       "    </tr>\n",
       "    <tr>\n",
       "      <th>3</th>\n",
       "      <td>4680</td>\n",
       "      <td>2004-12-31</td>\n",
       "      <td>Jeopardy!</td>\n",
       "      <td>THE COMPANY LINE</td>\n",
       "      <td>$200</td>\n",
       "      <td>In 1963, live on \"The Art Linkletter Show\", this company served its billionth burger</td>\n",
       "      <td>McDonald's</td>\n",
       "      <td>200.0</td>\n",
       "    </tr>\n",
       "    <tr>\n",
       "      <th>4</th>\n",
       "      <td>4680</td>\n",
       "      <td>2004-12-31</td>\n",
       "      <td>Jeopardy!</td>\n",
       "      <td>EPITAPHS &amp; TRIBUTES</td>\n",
       "      <td>$200</td>\n",
       "      <td>Signer of the Dec. of Indep., framer of the Constitution of Mass., second President of the United States</td>\n",
       "      <td>John Adams</td>\n",
       "      <td>200.0</td>\n",
       "    </tr>\n",
       "    <tr>\n",
       "      <th>...</th>\n",
       "      <td>...</td>\n",
       "      <td>...</td>\n",
       "      <td>...</td>\n",
       "      <td>...</td>\n",
       "      <td>...</td>\n",
       "      <td>...</td>\n",
       "      <td>...</td>\n",
       "      <td>...</td>\n",
       "    </tr>\n",
       "    <tr>\n",
       "      <th>216925</th>\n",
       "      <td>4999</td>\n",
       "      <td>2006-05-11</td>\n",
       "      <td>Double Jeopardy!</td>\n",
       "      <td>RIDDLE ME THIS</td>\n",
       "      <td>$2000</td>\n",
       "      <td>This Puccini opera turns on the solution to 3 riddles posed by the heroine</td>\n",
       "      <td>Turandot</td>\n",
       "      <td>2000.0</td>\n",
       "    </tr>\n",
       "    <tr>\n",
       "      <th>216926</th>\n",
       "      <td>4999</td>\n",
       "      <td>2006-05-11</td>\n",
       "      <td>Double Jeopardy!</td>\n",
       "      <td>\"T\" BIRDS</td>\n",
       "      <td>$2000</td>\n",
       "      <td>In North America this term is properly applied to only 4 species that are crested, including the tufted</td>\n",
       "      <td>a titmouse</td>\n",
       "      <td>2000.0</td>\n",
       "    </tr>\n",
       "    <tr>\n",
       "      <th>216927</th>\n",
       "      <td>4999</td>\n",
       "      <td>2006-05-11</td>\n",
       "      <td>Double Jeopardy!</td>\n",
       "      <td>AUTHORS IN THEIR YOUTH</td>\n",
       "      <td>$2000</td>\n",
       "      <td>In Penny Lane, where this \"Hellraiser\" grew up, the barber shaves another customer--then flays him alive!</td>\n",
       "      <td>Clive Barker</td>\n",
       "      <td>2000.0</td>\n",
       "    </tr>\n",
       "    <tr>\n",
       "      <th>216928</th>\n",
       "      <td>4999</td>\n",
       "      <td>2006-05-11</td>\n",
       "      <td>Double Jeopardy!</td>\n",
       "      <td>QUOTATIONS</td>\n",
       "      <td>$2000</td>\n",
       "      <td>From Ft. Sill, Okla. he made the plea, Arizona is my land, my home, my father's land, to which I now ask to... return\"</td>\n",
       "      <td>Geronimo</td>\n",
       "      <td>2000.0</td>\n",
       "    </tr>\n",
       "    <tr>\n",
       "      <th>216929</th>\n",
       "      <td>4999</td>\n",
       "      <td>2006-05-11</td>\n",
       "      <td>Final Jeopardy!</td>\n",
       "      <td>HISTORIC NAMES</td>\n",
       "      <td>no value</td>\n",
       "      <td>A silent movie title includes the last name of this 18th c. statesman &amp; favorite of Catherine the Great</td>\n",
       "      <td>Grigori Alexandrovich Potemkin</td>\n",
       "      <td>NaN</td>\n",
       "    </tr>\n",
       "  </tbody>\n",
       "</table>\n",
       "<p>216930 rows × 8 columns</p>\n",
       "</div>"
      ],
      "text/plain": [
       "        Show Number    Air Date             Round  \\\n",
       "0              4680  2004-12-31         Jeopardy!   \n",
       "1              4680  2004-12-31         Jeopardy!   \n",
       "2              4680  2004-12-31         Jeopardy!   \n",
       "3              4680  2004-12-31         Jeopardy!   \n",
       "4              4680  2004-12-31         Jeopardy!   \n",
       "...             ...         ...               ...   \n",
       "216925         4999  2006-05-11  Double Jeopardy!   \n",
       "216926         4999  2006-05-11  Double Jeopardy!   \n",
       "216927         4999  2006-05-11  Double Jeopardy!   \n",
       "216928         4999  2006-05-11  Double Jeopardy!   \n",
       "216929         4999  2006-05-11   Final Jeopardy!   \n",
       "\n",
       "                               Category     Value  \\\n",
       "0                               HISTORY      $200   \n",
       "1       ESPN's TOP 10 ALL-TIME ATHLETES      $200   \n",
       "2           EVERYBODY TALKS ABOUT IT...      $200   \n",
       "3                      THE COMPANY LINE      $200   \n",
       "4                   EPITAPHS & TRIBUTES      $200   \n",
       "...                                 ...       ...   \n",
       "216925                   RIDDLE ME THIS     $2000   \n",
       "216926                        \"T\" BIRDS     $2000   \n",
       "216927           AUTHORS IN THEIR YOUTH     $2000   \n",
       "216928                       QUOTATIONS     $2000   \n",
       "216929                   HISTORIC NAMES  no value   \n",
       "\n",
       "                                                                                                                      Question  \\\n",
       "0                             For the last 8 years of his life, Galileo was under house arrest for espousing this man's theory   \n",
       "1                  No. 2: 1912 Olympian; football star at Carlisle Indian School; 6 MLB seasons with the Reds, Giants & Braves   \n",
       "2                                     The city of Yuma in this state has a record average of 4,055 hours of sunshine each year   \n",
       "3                                         In 1963, live on \"The Art Linkletter Show\", this company served its billionth burger   \n",
       "4                     Signer of the Dec. of Indep., framer of the Constitution of Mass., second President of the United States   \n",
       "...                                                                                                                        ...   \n",
       "216925                                              This Puccini opera turns on the solution to 3 riddles posed by the heroine   \n",
       "216926                 In North America this term is properly applied to only 4 species that are crested, including the tufted   \n",
       "216927               In Penny Lane, where this \"Hellraiser\" grew up, the barber shaves another customer--then flays him alive!   \n",
       "216928  From Ft. Sill, Okla. he made the plea, Arizona is my land, my home, my father's land, to which I now ask to... return\"   \n",
       "216929                 A silent movie title includes the last name of this 18th c. statesman & favorite of Catherine the Great   \n",
       "\n",
       "                                Answer  value_float  \n",
       "0                           Copernicus        200.0  \n",
       "1                           Jim Thorpe        200.0  \n",
       "2                              Arizona        200.0  \n",
       "3                           McDonald's        200.0  \n",
       "4                           John Adams        200.0  \n",
       "...                                ...          ...  \n",
       "216925                        Turandot       2000.0  \n",
       "216926                      a titmouse       2000.0  \n",
       "216927                    Clive Barker       2000.0  \n",
       "216928                        Geronimo       2000.0  \n",
       "216929  Grigori Alexandrovich Potemkin          NaN  \n",
       "\n",
       "[216930 rows x 8 columns]"
      ]
     },
     "execution_count": 54,
     "metadata": {},
     "output_type": "execute_result"
    }
   ],
   "source": [
    "jeopardy[\"value_float\"]=pd.to_numeric(jeopardy[\" Value\"].str.replace(r\"[$,]\",\"\", regex= True),errors=\"coerce\")\n",
    "jeopardy"
   ]
  },
  {
   "cell_type": "markdown",
   "metadata": {},
   "source": [
    "5. Write a function that returns the count of unique answers to all of the questions in a dataset. For example, after filtering the entire dataset to only questions containing the word `\"King\"`, we could then find all of the unique answers to those questions. The answer \"Henry VIII\" appeared 55 times and was the most common answer."
   ]
  },
  {
   "cell_type": "code",
   "execution_count": 59,
   "metadata": {},
   "outputs": [
    {
     "data": {
      "text/plain": [
       "2142"
      ]
     },
     "execution_count": 59,
     "metadata": {},
     "output_type": "execute_result"
    }
   ],
   "source": [
    "def unique_answers(filtered_df):\n",
    "    return filtered_df[\" Answer\"].nunique()\n",
    "unique_answers(test)"
   ]
  },
  {
   "cell_type": "markdown",
   "metadata": {},
   "source": [
    "6. Explore from here! This is an incredibly rich dataset, and there are so many interesting things to discover. There are a few columns that we haven't even started looking at yet. Here are some ideas on ways to continue working with this data:\n",
    "\n",
    " * Investigate the ways in which questions change over time by filtering by the date. How many questions from the 90s use the word `\"Computer\"` compared to questions from the 2000s?\n",
    " * Is there a connection between the round and the category? Are you more likely to find certain categories, like `\"Literature\"` in Single Jeopardy or Double Jeopardy?\n",
    " * Build a system to quiz yourself. Grab random questions, and use the <a href=\"https://docs.python.org/3/library/functions.html#input\">input</a> function to get a response from the user. Check to see if that response was right or wrong."
   ]
  },
  {
   "cell_type": "code",
   "execution_count": 81,
   "metadata": {},
   "outputs": [
    {
     "name": "stdout",
     "output_type": "stream",
     "text": [
      "In the 90s there was 84 question that used the word 'Computer', in The 200s we see that number increase by 331% to 278 \n"
     ]
    }
   ],
   "source": [
    "computer_df = filter_df(jeopardy,[\"computer\"])\n",
    "computer_df_1900 = computer_df[computer_df[\" Air Date\"].str.slice(stop=4).astype(int) < 2000]\n",
    "computer_df_2000 = computer_df[computer_df[\" Air Date\"].str.slice(stop=4).astype(int) >= 2000]\n",
    "print(f\"In the 90s there was {len(computer_df_1900)} question that used the word 'Computer', in The 200s we see that number increase by {round(len(computer_df_2000)/len(computer_df_1900)*100)}% to {len(computer_df_2000)} \")"
   ]
  },
  {
   "cell_type": "code",
   "execution_count": 138,
   "metadata": {},
   "outputs": [
    {
     "name": "stdout",
     "output_type": "stream",
     "text": [
      "['Jeopardy!' 'Double Jeopardy!' 'Final Jeopardy!' 'Tiebreaker']\n",
      "             Category      Round  Count\n",
      "21024       POTPOURRI  Jeopardy!    255\n",
      "24562  STUPID ANSWERS  Jeopardy!    255\n",
      "23909          SPORTS  Jeopardy!    253\n",
      "4514          ANIMALS  Jeopardy!    233\n",
      "              Category             Round  Count\n",
      "5574    BEFORE & AFTER  Double Jeopardy!    450\n",
      "16377       LITERATURE  Double Jeopardy!    381\n",
      "22623          SCIENCE  Double Jeopardy!    296\n",
      "31020  WORLD GEOGRAPHY  Double Jeopardy!    254\n",
      "              Category            Round  Count\n",
      "29260  U.S. PRESIDENTS  Final Jeopardy!     50\n",
      "30863     WORD ORIGINS  Final Jeopardy!     34\n",
      "24253   STATE CAPITALS  Final Jeopardy!     31\n",
      "5114           AUTHORS  Final Jeopardy!     27\n"
     ]
    }
   ],
   "source": [
    "print(jeopardy[\" Round\"].unique())\n",
    "category_count = jeopardy.groupby([\" Category\", \" Round\"]).count()[\" Value\"].reset_index()\n",
    "category_count.rename({\" Value\": \"Count\"}, inplace=True, axis=1)\n",
    "category_count_jeopardy = category_count[category_count[\" Round\"] == \"Jeopardy!\"].sort_values(by = \"Count\", ascending=False)\n",
    "category_count_double_jeopardy = category_count[category_count[\" Round\"] == \"Double Jeopardy!\"].sort_values(by = \"Count\", ascending=False)\n",
    "category_count_final_jeopardy = category_count[category_count[\" Round\"] == \"Final Jeopardy!\"].sort_values(by = \"Count\", ascending=False)\n",
    "category_count_tie_breaker = category_count[category_count[\" Round\"] == \"Tiebreaker\"].sort_values(by = \"Count\", ascending=False)\n",
    "print(category_count_jeopardy[:4])\n",
    "print(category_count_double_jeopardy[:4])\n",
    "print(category_count_final_jeopardy[:4])"
   ]
  },
  {
   "cell_type": "code",
   "execution_count": null,
   "metadata": {},
   "outputs": [
    {
     "name": "stdout",
     "output_type": "stream",
     "text": [
      "Welcome to Jepoardy!\n",
      "input your answer after each question or enter 'end game' to exit game\n"
     ]
    },
    {
     "name": "stdin",
     "output_type": "stream",
     "text": [
      "After WWII the state form of this Asian religion was abolished; the sectarian form was unaffected communism\n"
     ]
    },
    {
     "name": "stdout",
     "output_type": "stream",
     "text": [
      "Wrong! the answer is Shintoism  \n"
     ]
    },
    {
     "name": "stdin",
     "output_type": "stream",
     "text": [
      "Cougar what?\n"
     ]
    },
    {
     "name": "stdout",
     "output_type": "stream",
     "text": [
      "Wrong! the answer is Puma  \n"
     ]
    },
    {
     "name": "stdin",
     "output_type": "stream",
     "text": [
      "This Neb. city's Henry Doorly Zoo has the largest glazed geodesic dome, housing the world's largest indoor desert idk\n"
     ]
    },
    {
     "name": "stdout",
     "output_type": "stream",
     "text": [
      "Wrong! the answer is Omaha  \n"
     ]
    },
    {
     "name": "stdin",
     "output_type": "stream",
     "text": [
      "Pre-Socratic \"all is one\" thinker: RAPMENIDES ok\n"
     ]
    },
    {
     "name": "stdout",
     "output_type": "stream",
     "text": [
      "Wrong! the answer is Parmenides  \n"
     ]
    },
    {
     "name": "stdin",
     "output_type": "stream",
     "text": [
      "Popular in the mid-1800s, this tall type of silk hat is especially associated with Abraham Lincoln aghan\n"
     ]
    },
    {
     "name": "stdout",
     "output_type": "stream",
     "text": [
      "Wrong! the answer is the stove-pipe hat  \n"
     ]
    },
    {
     "name": "stdin",
     "output_type": "stream",
     "text": [
      "1,024 megabytes gigabyte\n"
     ]
    },
    {
     "name": "stdout",
     "output_type": "stream",
     "text": [
      "Wrong! the answer is a gigabyte  \n"
     ]
    }
   ],
   "source": [
    "import random\n",
    "\n",
    "import random\n",
    "import pandas as pd\n",
    "\n",
    "def play_jeopardy(df):\n",
    "    # Check if DataFrame is valid\n",
    "    if df.empty or \" Question\" not in df.columns or \" Answer\" not in df.columns:\n",
    "        print(\"The provided Jeopardy data is invalid or empty.\")\n",
    "        return\n",
    "    \n",
    "    user_input = \"\"\n",
    "    print(\"Welcome to Jeopardy!\")\n",
    "    print(\"Input your answer after each question or enter 'end game' to exit the game.\")\n",
    "    \n",
    "    while user_input != \"end game\":\n",
    "        # Get a random index\n",
    "        index = random.randint(0, len(df) - 1)\n",
    "        \n",
    "        # Fetch question and answer\n",
    "        question = df[\" Question\"].iloc[index]\n",
    "        answer = df[\" Answer\"].iloc[index]\n",
    "        \n",
    "        # Display the question and get user input\n",
    "        user_input = input(f\"Question: {question}\\nYour Answer: \").strip()\n",
    "        \n",
    "        # End game check\n",
    "        if user_input.lower() == \"end game\":\n",
    "            print(\"Thanks for playing Jeopardy!\")\n",
    "            break\n",
    "        \n",
    "        # Check answer\n",
    "        if user_input.lower() == answer.lower():\n",
    "            print(f\"Correct! The answer is: {answer}\\n\")\n",
    "        else:\n",
    "            print(f\"Wrong! The correct answer is: {answer}\\n\")\n",
    "\n",
    "# Example Usage:\n",
    "# df = pd.DataFrame({\n",
    "#     \" Question\": [\"What is the capital of France?\", \"What is 2+2?\"],\n",
    "#     \" Answer\": [\"Paris\", \"4\"]\n",
    "# })\n",
    "# play_jeopardy(df)\n",
    "\n",
    "\n",
    "play_jeopardy(jeopardy)"
   ]
  },
  {
   "cell_type": "markdown",
   "metadata": {},
   "source": [
    "## Solution"
   ]
  },
  {
   "cell_type": "markdown",
   "metadata": {},
   "source": [
    "7. Compare your program to our <a href=\"https://content.codecademy.com/PRO/independent-practice-projects/jeopardy/jeopardy_solution.zip\">sample solution code</a> - remember, that your program might look different from ours (and probably will) and that's okay!"
   ]
  },
  {
   "cell_type": "markdown",
   "metadata": {},
   "source": [
    "8. Great work! Visit <a href=\"https://discuss.codecademy.com/t/this-is-jeopardy-challenge-project-python-pandas/462365\">our forums</a> to compare your project to our sample solution code. You can also learn how to host your own solution on GitHub so you can share it with other learners! Your solution might look different from ours, and that's okay! There are multiple ways to solve these projects, and you'll learn more by seeing others' code."
   ]
  },
  {
   "cell_type": "code",
   "execution_count": null,
   "metadata": {},
   "outputs": [],
   "source": []
  }
 ],
 "metadata": {
  "kernelspec": {
   "display_name": "Python 3 (ipykernel)",
   "language": "python",
   "name": "python3"
  },
  "language_info": {
   "codemirror_mode": {
    "name": "ipython",
    "version": 3
   },
   "file_extension": ".py",
   "mimetype": "text/x-python",
   "name": "python",
   "nbconvert_exporter": "python",
   "pygments_lexer": "ipython3",
   "version": "3.13.0"
  }
 },
 "nbformat": 4,
 "nbformat_minor": 4
}
